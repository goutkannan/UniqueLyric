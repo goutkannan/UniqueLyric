{
 "cells": [
  {
   "cell_type": "code",
   "execution_count": 2,
   "metadata": {
    "collapsed": false
   },
   "outputs": [],
   "source": [
    "import numpy as np\n",
    "from bs4 import BeautifulSoup\n",
    "import urllib2\n",
    "import io\n",
    "import os\n",
    "\n",
    "import time\n",
    "import re\n",
    "from sklearn.feature_extraction.text import CountVectorizer \n",
    "import matplotlib.pyplot as plt\n",
    "%matplotlib inline\n",
    "\n",
    "SONGS_TOTAL = 0\n",
    "\n"
   ]
  },
  {
   "cell_type": "code",
   "execution_count": 1,
   "metadata": {
    "collapsed": false
   },
   "outputs": [],
   "source": [
    "def checkifexisits(path):\n",
    "    \"\"\" Utility to check the lyric file exists\"\"\"\n",
    "    return os.path.exists(path.replace(\"\\\\\",\"/\"))\n"
   ]
  },
  {
   "cell_type": "code",
   "execution_count": 4,
   "metadata": {
    "collapsed": false,
    "scrolled": true
   },
   "outputs": [],
   "source": [
    "def scrapLyrics(datasrc):\n",
    "    \"\"\"Get the list of complete lists of songs and pass it to scrapAlbums for song by song scrap \"\"\"\n",
    "    r = urllib2.urlopen(datasrc).read()\n",
    "    print \"Requesting .. \",datasrc\n",
    "    soup = BeautifulSoup(r,\"lxml\")\n",
    "    data = soup.find(\"div\", {\"id\" : \"listAlbum\"} )\n",
    "    links = [l['href'] for l in data.findAll(\"a\",{\"target\":\"_blank\"})]\n",
    "    global SONGS_TOTAL\n",
    "    SONGS_TOTAL = len(links)\n",
    "    print SONGS_TOTAL\n",
    "    scrapAlbums(links)"
   ]
  },
  {
   "cell_type": "code",
   "execution_count": 5,
   "metadata": {
    "collapsed": false
   },
   "outputs": [],
   "source": [
    "def scrapAlbums(links):\n",
    "\n",
    "    for link in links:\n",
    "        \n",
    "        local_link =  link.replace(\"../\",\"\").replace(\".html\",\".txt\") \n",
    "       \n",
    "       \n",
    "        if  not checkifexisits(local_link):           \n",
    "            \n",
    "            page =  urllib2.urlopen(\"http://www.azlyrics.com\"+link.replace(\"..\",\"\"))\n",
    "            contentsoup = BeautifulSoup(page)\n",
    "            data = contentsoup.find_all('div')[22].get_text() #hard coded div , can be made generic \n",
    "            \n",
    "            print \"Scraping Album : \", link.split(\"/\")[-1].replace(\"html\",\"\")\n",
    "            \n",
    "            saveData(data,local_link)\n",
    "            time.sleep(40*2)  # not flooding with requests , \" I am being good :)\"\n",
    "        else:\n",
    "            print link, \"  already present\"\n"
   ]
  },
  {
   "cell_type": "code",
   "execution_count": 6,
   "metadata": {
    "collapsed": false
   },
   "outputs": [],
   "source": [
    "def saveData(data,link):\n",
    "    \"\"\"Local file dump\"\"\"\n",
    "    filename= link.replace(\".html\",\".txt\")\n",
    "   \n",
    "    print os.path.dirname(filename)\n",
    "    \n",
    "    if not os.path.exists(os.path.dirname(filename)):\n",
    "        os.makedirs(os.path.dirname(filename))    \n",
    "    \n",
    "    file = io.open(filename,\"w\",encoding='utf8') \n",
    "    \n",
    "    file.write(data.strip())\n",
    "    file.close()\n",
    "\n"
   ]
  },
  {
   "cell_type": "code",
   "execution_count": null,
   "metadata": {
    "collapsed": false,
    "scrolled": false
   },
   "outputs": [
    {
     "name": "stdout",
     "output_type": "stream",
     "text": [
      "Requesting ..  http://www.azlyrics.com/r/rush.html\n",
      "167\n",
      "lyrics/rush/findingmyway.txt\n",
      "Scraping Album : "
     ]
    }
   ],
   "source": [
    "#BEWARE : Be careful before running... Scaps the lyrics for the artists given in the list. \n",
    "\n",
    "artists = [\"rush\",'michaeljackson','pinkfloyd',\"metallica\",\"beatles\",\"nirvana\",\"queen\",\"rush\"]\n",
    "for artist in artists:\n",
    "    datasrc = \"http://www.azlyrics.com/\"+artist[0]+\"/\"+artist +\".html\"\n",
    "    \n",
    "    scrapLyrics(datasrc)"
   ]
  },
  {
   "cell_type": "markdown",
   "metadata": {},
   "source": [
    "# Vectorizing the lyrics using sklearn\n",
    "Take a look at http://scikit-learn.org/stable/modules/generated/sklearn.feature_extraction.text.CountVectorizer.html "
   ]
  },
  {
   "cell_type": "code",
   "execution_count": 4,
   "metadata": {
    "collapsed": false,
    "scrolled": false
   },
   "outputs": [],
   "source": [
    "def get_files(path):\n",
    "    \"\"\"Utility function for CountVectorizer \"\"\"\n",
    "    text_files = [os.path.join(path,f) for f in os.listdir(path) if f.endswith('.txt')]\n",
    "    return text_files"
   ]
  },
  {
   "cell_type": "code",
   "execution_count": 5,
   "metadata": {
    "collapsed": false
   },
   "outputs": [],
   "source": [
    "def tokenize(text):\n",
    "    \"\"\"Using regex to strip all special characters and return list of words \"\"\"\n",
    "    return re.sub('\\W+', ' ', text.lower()).split()"
   ]
  },
  {
   "cell_type": "code",
   "execution_count": 6,
   "metadata": {
    "collapsed": false
   },
   "outputs": [],
   "source": [
    "def do_vectorize(filenames, tokenizer_fn=tokenize, min_df=1,\n",
    "                 max_df=1., binary=True, ngram_range=(1,1)):\n",
    "    \n",
    "    \n",
    "    if (isinstance(filenames,list)==False):\n",
    "        filenames = filenames.tolist()\n",
    "    \n",
    "    vectorizer = CountVectorizer(input=\"filename\",tokenizer=tokenizer_fn,decode_error='ignore',min_df=min_df,max_df=max_df,binary=binary,ngram_range=ngram_range,dtype=int)\n",
    "    X = vectorizer.fit_transform(eachfile for eachfile in filenames)\n",
    "    return (X,vectorizer)\n",
    "    \n",
    "\n"
   ]
  },
  {
   "cell_type": "markdown",
   "metadata": {},
   "source": [
    "## Results and Graphs"
   ]
  },
  {
   "cell_type": "code",
   "execution_count": 7,
   "metadata": {
    "collapsed": false
   },
   "outputs": [],
   "source": [
    "def plotgraph(avg,unique,artists,title=None):\n",
    "    \n",
    "    fig, ax = plt.subplots()\n",
    "    ax.scatter(avg,unique)\n",
    "    ax.set_ylabel(\"Avg words per song\")\n",
    "    ax.set_xlabel(\"Unique words\")\n",
    "    if title is not None:\n",
    "        ax.set_title(title)\n",
    "\n",
    "    for i, txt in enumerate(artists):\n",
    "        ax.annotate(txt, (avg[i]+15,unique[i]+1))"
   ]
  },
  {
   "cell_type": "code",
   "execution_count": 23,
   "metadata": {
    "collapsed": false
   },
   "outputs": [],
   "source": [
    "def printResults(avg,unique,totalwords,artists):\n",
    "    for i,artist in enumerate(artists):\n",
    "        print \"***************\"\n",
    "        print  artist+\"'s Vocabulary ..:\",unique[i]\n",
    "        \n",
    "        \n",
    "        print  \"Avg words per song\", np.mean((matrix.getnnz(axis=1)))\n",
    "        print \"*******\"\n",
    "        "
   ]
  },
  {
   "cell_type": "code",
   "execution_count": 24,
   "metadata": {
    "collapsed": false
   },
   "outputs": [
    {
     "name": "stdout",
     "output_type": "stream",
     "text": [
      "***************\n",
      "michaeljackson's Vocabulary ..: 3651\n",
      "Avg words per song 89.5524861878\n",
      "*******\n",
      "***************\n",
      "pinkfloyd's Vocabulary ..: 2869\n",
      "Avg words per song 89.5524861878\n",
      "*******\n",
      "***************\n",
      "metallica's Vocabulary ..: 3344\n",
      "Avg words per song 89.5524861878\n",
      "*******\n",
      "***************\n",
      "beatles's Vocabulary ..: 3067\n",
      "Avg words per song 89.5524861878\n",
      "*******\n",
      "***************\n",
      "nirvana's Vocabulary ..: 2053\n",
      "Avg words per song 89.5524861878\n",
      "*******\n",
      "***************\n",
      "queen's Vocabulary ..: 3229\n",
      "Avg words per song 89.5524861878\n",
      "*******\n"
     ]
    }
   ],
   "source": [
    "def getResults(artists):\n",
    "    \n",
    "    avg=[]\n",
    "    unique=[]\n",
    "    totalwords=[]\n",
    "    for artist in artists:\n",
    "        all_lyric_files =  get_files(\"lyrics\"+os.sep+artist)\n",
    "        matrix, vec = do_vectorize(all_lyric_files)\n",
    "        unique.append(len(vec.get_feature_names()))\n",
    "        totalwords.append(vec.get_feature_names())\n",
    "        avg.append(np.mean((matrix.getnnz(axis=1))))\n",
    "    return avg,unique,totalwords,matrix,vec\n",
    "\n",
    "avg,unique,totalwords,matrix,vec = getResults(artists)\n",
    "printResults(avg,unique,totalwords,artists)\n"
   ]
  },
  {
   "cell_type": "code",
   "execution_count": 17,
   "metadata": {
    "collapsed": false
   },
   "outputs": [
    {
     "data": {
      "image/png": "[encoded data removed]",
      "text/plain": [
       "<matplotlib.figure.Figure at 0xad34400>"
      ]
     },
     "metadata": {},
     "output_type": "display_data"
    }
   ],
   "source": [
    "plotgraph(unique,avg,artists,title=\"Not referenced with English Dictionary\")"
   ]
  },
  {
   "cell_type": "code",
   "execution_count": 14,
   "metadata": {
    "collapsed": false
   },
   "outputs": [],
   "source": [
    "# CAUTION--- pre-req nltk package, it would take atleast an hour to install. \n",
    "from nltk.corpus import words"
   ]
  },
  {
   "cell_type": "code",
   "execution_count": 15,
   "metadata": {
    "collapsed": false
   },
   "outputs": [],
   "source": [
    "def getmatch(totalwords):\n",
    "    inenglish=[]\n",
    "    for un in totalwords:\n",
    "        inenglish.append(len(set(un) & set(words.words())))\n",
    "    return inenglish\n",
    "\n",
    "words_in_english_dict =  getmatch(totalwords)\n"
   ]
  },
  {
   "cell_type": "code",
   "execution_count": 16,
   "metadata": {
    "collapsed": false
   },
   "outputs": [
    {
     "name": "stderr",
     "output_type": "stream",
     "text": [
      "C:\\Users\\Goutham\\Anaconda\\lib\\site-packages\\matplotlib\\collections.py:590: FutureWarning: elementwise comparison failed; returning scalar instead, but in the future will perform elementwise comparison\n",
      "  if self._edgecolors == str('face'):\n"
     ]
    },
    {
     "data": {
      "image/png": "[encoded data removed]",
      "text/plain": [
       "<matplotlib.figure.Figure at 0x992a4a8>"
      ]
     },
     "metadata": {},
     "output_type": "display_data"
    },
    {
     "data": {
      "image/png": "[encoded data removed]",
      "text/plain": [
       "<matplotlib.figure.Figure at 0x992a470>"
      ]
     },
     "metadata": {},
     "output_type": "display_data"
    }
   ],
   "source": [
    "plotgraph(words_in_english_dict,avg,artists,title=\"Words that are in English Dictionary\")"
   ]
  },
  {
   "cell_type": "code",
   "execution_count": null,
   "metadata": {
    "collapsed": true
   },
   "outputs": [],
   "source": []
  }
 ],
 "metadata": {
  "kernelspec": {
   "display_name": "Python 2",
   "language": "python",
   "name": "python2"
  },
  "language_info": {
   "codemirror_mode": {
    "name": "ipython",
    "version": 2
   },
   "file_extension": ".py",
   "mimetype": "text/x-python",
   "name": "python",
   "nbconvert_exporter": "python",
   "pygments_lexer": "ipython2",
   "version": "2.7.12"
  }
 },
 "nbformat": 4,
 "nbformat_minor": 0
}
